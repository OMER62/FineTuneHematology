{
 "cells": [
  {
   "cell_type": "code",
   "execution_count": 26,
   "outputs": [
    {
     "name": "stdout",
     "output_type": "stream",
     "text": [
      "Collecting openpyxl\n",
      "  Downloading openpyxl-3.1.2-py2.py3-none-any.whl.metadata (2.5 kB)\n",
      "Collecting et-xmlfile (from openpyxl)\n",
      "  Downloading et_xmlfile-1.1.0-py3-none-any.whl (4.7 kB)\n",
      "Downloading openpyxl-3.1.2-py2.py3-none-any.whl (249 kB)\n",
      "   ---------------------------------------- 0.0/250.0 kB ? eta -:--:--\n",
      "   ---- ----------------------------------- 30.7/250.0 kB ? eta -:--:--\n",
      "   ------------------- -------------------- 122.9/250.0 kB 1.4 MB/s eta 0:00:01\n",
      "   ---------------------------------------  245.8/250.0 kB 2.1 MB/s eta 0:00:01\n",
      "   ---------------------------------------- 250.0/250.0 kB 1.9 MB/s eta 0:00:00\n",
      "Installing collected packages: et-xmlfile, openpyxl\n",
      "Successfully installed et-xmlfile-1.1.0 openpyxl-3.1.2\n"
     ]
    },
    {
     "name": "stderr",
     "output_type": "stream",
     "text": [
      "\n",
      "[notice] A new release of pip is available: 23.3.1 -> 24.0\n",
      "[notice] To update, run: python.exe -m pip install --upgrade pip\n"
     ]
    }
   ],
   "source": [
    "!pip install openpyxl"
   ],
   "metadata": {
    "collapsed": false,
    "ExecuteTime": {
     "end_time": "2024-02-25T14:42:47.720237Z",
     "start_time": "2024-02-25T14:42:44.034839700Z"
    }
   },
   "id": "4554e12634b670af"
  },
  {
   "cell_type": "code",
   "execution_count": 33,
   "outputs": [],
   "source": [
    "import pandas as pd"
   ],
   "metadata": {
    "collapsed": false,
    "ExecuteTime": {
     "end_time": "2024-02-25T14:45:29.158911700Z",
     "start_time": "2024-02-25T14:45:29.150496Z"
    }
   },
   "id": "a2ebe17c140df12b"
  },
  {
   "cell_type": "code",
   "execution_count": 1,
   "id": "initial_id",
   "metadata": {
    "collapsed": true,
    "ExecuteTime": {
     "end_time": "2024-02-25T14:16:10.103467900Z",
     "start_time": "2024-02-25T14:15:42.238180800Z"
    }
   },
   "outputs": [],
   "source": [
    "from dotenv import load_dotenv\n",
    "import os\n",
    "from llama_index.embeddings.openai import OpenAIEmbedding\n",
    "from llama_index.llms.openai import OpenAI\n",
    "from llama_index.core import VectorStoreIndex, get_response_synthesizer\n",
    "from llama_index.core.retrievers import VectorIndexRetriever\n",
    "from llama_index.core.query_engine import RetrieverQueryEngine\n",
    "from llama_index.core.postprocessor import SimilarityPostprocessor\n",
    "from llama_index.vector_stores.pinecone import PineconeVectorStore\n",
    "from pinecone import Pinecone"
   ]
  },
  {
   "cell_type": "code",
   "execution_count": 3,
   "outputs": [
    {
     "data": {
      "text/plain": "True"
     },
     "execution_count": 3,
     "metadata": {},
     "output_type": "execute_result"
    }
   ],
   "source": [
    "load_dotenv()"
   ],
   "metadata": {
    "collapsed": false,
    "ExecuteTime": {
     "end_time": "2024-02-25T14:16:45.999826200Z",
     "start_time": "2024-02-25T14:16:45.977053300Z"
    }
   },
   "id": "20331a7a299aecdb"
  },
  {
   "cell_type": "code",
   "execution_count": 4,
   "outputs": [],
   "source": [
    "pc = Pinecone(api_key=os.environ.get(\"PINECONE_API_KEY\"))"
   ],
   "metadata": {
    "collapsed": false,
    "ExecuteTime": {
     "end_time": "2024-02-25T14:16:46.973737700Z",
     "start_time": "2024-02-25T14:16:46.951791300Z"
    }
   },
   "id": "c706b19e7a642ca5"
  },
  {
   "cell_type": "code",
   "execution_count": 5,
   "outputs": [],
   "source": [
    "pinecone_index = pc.Index(name=\"hematology-index\")\n",
    "vector_store = PineconeVectorStore(pinecone_index=pinecone_index)\n",
    "embed_model = OpenAIEmbedding(model=\"text-embedding-ada-002\", api_key=os.environ.get(\"OPENAI_API_KEY\"))\n",
    "index = VectorStoreIndex.from_vector_store(vector_store=vector_store, embed_model=embed_model)"
   ],
   "metadata": {
    "collapsed": false,
    "ExecuteTime": {
     "end_time": "2024-02-25T14:16:49.357120500Z",
     "start_time": "2024-02-25T14:16:48.692550900Z"
    }
   },
   "id": "88dd9a0fec617a22"
  },
  {
   "cell_type": "code",
   "execution_count": 6,
   "outputs": [],
   "source": [
    "# configure retriever\n",
    "retriever = VectorIndexRetriever(\n",
    "        index=index,\n",
    "        similarity_top_k=10,\n",
    "    )\n",
    "llm = OpenAI(model=\"gpt-3.5-turbo\", temperature=0, api_key=os.environ.get(\"OPENAI_API_KEY\"))\n",
    "\n",
    "response_synthesizer = get_response_synthesizer(llm=llm)\n",
    "\n",
    "query_engine = RetrieverQueryEngine(\n",
    "        retriever=retriever,\n",
    "        response_synthesizer=response_synthesizer,\n",
    "        node_postprocessors=[SimilarityPostprocessor(similarity_cutoff=0.7)],\n",
    ")"
   ],
   "metadata": {
    "collapsed": false,
    "ExecuteTime": {
     "end_time": "2024-02-25T14:16:50.129248100Z",
     "start_time": "2024-02-25T14:16:50.124158400Z"
    }
   },
   "id": "8fd2aadbef8788bb"
  },
  {
   "cell_type": "code",
   "execution_count": 34,
   "outputs": [],
   "source": [
    "df=pd.read_excel(\"./Hematology-pdf/American College of Physicians - MKSAP 19_ medical knowledge self-assessment program. Hematology-American College of Physicians (2021).xlsx\")"
   ],
   "metadata": {
    "collapsed": false,
    "ExecuteTime": {
     "end_time": "2024-02-25T14:45:35.327666Z",
     "start_time": "2024-02-25T14:45:35.295837800Z"
    }
   },
   "id": "68f2ef28b647c359"
  },
  {
   "cell_type": "code",
   "execution_count": 35,
   "outputs": [
    {
     "data": {
      "text/plain": "                                            Questions  \\\n0   A S8-year-old man is evaluated for possible sm...   \n1   A 47 year-old woman is hospitalized with a 3-d...   \n2   A S5-year-old woman is evaluated before starti...   \n3   A 42-year-old woman is evaluated for several m...   \n4   A 27-year-old woman is evaluated for shortness...   \n..                                                ...   \n72  A 41-year-old man is evaluated in the emergenc...   \n73  A 27-year old woman is diagnosed with acute fe...   \n74  A 68 year old man is evaluated in the emergenc...   \n75  A 62 year old rvoman is l.rospitalized for an ...   \n76  A79-year old woman is evaluated for shortness ...   \n\n                                              Answers  \n0   Answer:  C Educational Objective: Evaluate smo...  \n1   Answer:  C Educational Objective: Treat pure r...  \n2   Answer: E Educational Objective: Evaluate a pr...  \n3   Answer: D Educational Objective: Prevent herpe...  \n4   Answer: D Educational Objective: Diagnose vita...  \n..                                                ...  \n72  Answer: E Educational Objective: Manage acute ...  \n73  Answer: D Educational Objective: Treat a patie...  \n74  Answer: A Educational Objective: Manage gastro...  \n75  Answer: A Educational Objective: Treat bleedin...  \n76  Answer: D Educational Objective: Treat a sympt...  \n\n[77 rows x 2 columns]",
      "text/html": "<div>\n<style scoped>\n    .dataframe tbody tr th:only-of-type {\n        vertical-align: middle;\n    }\n\n    .dataframe tbody tr th {\n        vertical-align: top;\n    }\n\n    .dataframe thead th {\n        text-align: right;\n    }\n</style>\n<table border=\"1\" class=\"dataframe\">\n  <thead>\n    <tr style=\"text-align: right;\">\n      <th></th>\n      <th>Questions</th>\n      <th>Answers</th>\n    </tr>\n  </thead>\n  <tbody>\n    <tr>\n      <th>0</th>\n      <td>A S8-year-old man is evaluated for possible sm...</td>\n      <td>Answer:  C Educational Objective: Evaluate smo...</td>\n    </tr>\n    <tr>\n      <th>1</th>\n      <td>A 47 year-old woman is hospitalized with a 3-d...</td>\n      <td>Answer:  C Educational Objective: Treat pure r...</td>\n    </tr>\n    <tr>\n      <th>2</th>\n      <td>A S5-year-old woman is evaluated before starti...</td>\n      <td>Answer: E Educational Objective: Evaluate a pr...</td>\n    </tr>\n    <tr>\n      <th>3</th>\n      <td>A 42-year-old woman is evaluated for several m...</td>\n      <td>Answer: D Educational Objective: Prevent herpe...</td>\n    </tr>\n    <tr>\n      <th>4</th>\n      <td>A 27-year-old woman is evaluated for shortness...</td>\n      <td>Answer: D Educational Objective: Diagnose vita...</td>\n    </tr>\n    <tr>\n      <th>...</th>\n      <td>...</td>\n      <td>...</td>\n    </tr>\n    <tr>\n      <th>72</th>\n      <td>A 41-year-old man is evaluated in the emergenc...</td>\n      <td>Answer: E Educational Objective: Manage acute ...</td>\n    </tr>\n    <tr>\n      <th>73</th>\n      <td>A 27-year old woman is diagnosed with acute fe...</td>\n      <td>Answer: D Educational Objective: Treat a patie...</td>\n    </tr>\n    <tr>\n      <th>74</th>\n      <td>A 68 year old man is evaluated in the emergenc...</td>\n      <td>Answer: A Educational Objective: Manage gastro...</td>\n    </tr>\n    <tr>\n      <th>75</th>\n      <td>A 62 year old rvoman is l.rospitalized for an ...</td>\n      <td>Answer: A Educational Objective: Treat bleedin...</td>\n    </tr>\n    <tr>\n      <th>76</th>\n      <td>A79-year old woman is evaluated for shortness ...</td>\n      <td>Answer: D Educational Objective: Treat a sympt...</td>\n    </tr>\n  </tbody>\n</table>\n<p>77 rows × 2 columns</p>\n</div>"
     },
     "execution_count": 35,
     "metadata": {},
     "output_type": "execute_result"
    }
   ],
   "source": [
    "df"
   ],
   "metadata": {
    "collapsed": false,
    "ExecuteTime": {
     "end_time": "2024-02-25T14:45:40.293063900Z",
     "start_time": "2024-02-25T14:45:40.256772800Z"
    }
   },
   "id": "9da0d8e462f2dc16"
  },
  {
   "cell_type": "code",
   "execution_count": 38,
   "outputs": [],
   "source": [
    "def modelResponse(llm,query_engine,df):\n",
    "        questions=df['Questions']\n",
    "        llmResponse=[]\n",
    "        query_engineResponse=[]\n",
    "        for q in questions:\n",
    "                llmResponse.append(llm.complete(q).text)\n",
    "                query_engineResponse.append(query_engine.query(q).response)\n",
    "        df['chatGpt3.5'] = llmResponse\n",
    "        df['AnswersWithRag'] = query_engineResponse\n",
    "        return df"
   ],
   "metadata": {
    "collapsed": false,
    "ExecuteTime": {
     "end_time": "2024-02-25T14:50:56.453426800Z",
     "start_time": "2024-02-25T14:50:56.413613900Z"
    }
   },
   "id": "318b085c5feb2e33"
  },
  {
   "cell_type": "code",
   "execution_count": 39,
   "outputs": [],
   "source": [
    "new_df=modelResponse(llm,query_engine,df)"
   ],
   "metadata": {
    "collapsed": false,
    "ExecuteTime": {
     "end_time": "2024-02-25T14:57:32.151198200Z",
     "start_time": "2024-02-25T14:50:56.960858Z"
    }
   },
   "id": "230b87bbed3e225a"
  },
  {
   "cell_type": "code",
   "execution_count": 40,
   "outputs": [
    {
     "data": {
      "text/plain": "                                            Questions  \\\n0   A S8-year-old man is evaluated for possible sm...   \n1   A 47 year-old woman is hospitalized with a 3-d...   \n2   A S5-year-old woman is evaluated before starti...   \n3   A 42-year-old woman is evaluated for several m...   \n4   A 27-year-old woman is evaluated for shortness...   \n..                                                ...   \n72  A 41-year-old man is evaluated in the emergenc...   \n73  A 27-year old woman is diagnosed with acute fe...   \n74  A 68 year old man is evaluated in the emergenc...   \n75  A 62 year old rvoman is l.rospitalized for an ...   \n76  A79-year old woman is evaluated for shortness ...   \n\n                                              Answers  \\\n0   Answer:  C Educational Objective: Evaluate smo...   \n1   Answer:  C Educational Objective: Treat pure r...   \n2   Answer: E Educational Objective: Evaluate a pr...   \n3   Answer: D Educational Objective: Prevent herpe...   \n4   Answer: D Educational Objective: Diagnose vita...   \n..                                                ...   \n72  Answer: E Educational Objective: Manage acute ...   \n73  Answer: D Educational Objective: Treat a patie...   \n74  Answer: A Educational Objective: Manage gastro...   \n75  Answer: A Educational Objective: Treat bleedin...   \n76  Answer: D Educational Objective: Treat a sympt...   \n\n                                           chatGpt3.5  \\\n0   (B) Skeletal survey\\n\\nA skeletal survey is th...   \n1   (A) CT pulmonary angiography\\n\\nGiven the pati...   \n2   (A) Epoetin\\n\\nThis patient has anemia with a ...   \n3   (C) Intravenous immune globulin\\n\\nThis patien...   \n4   (D) Serum vitamin B12 level\\n\\nThe patient's p...   \n..                                                ...   \n72  (B) Plasma exchange\\n\\nThis patient is present...   \n73  (D) Low molecular weight heparin\\n\\nImmediate ...   \n74  (B) Discontinue clopidogrel and aspirin\\n\\nIn ...   \n75  (C) Fresh frozen plasma\\n\\nFresh frozen plasma...   \n76  (D) Lenalidomide\\n\\nLenalidomide is a medicati...   \n\n                                       AnswersWithRag  \n0                                     Skeletal survey  \n1                            CT pulmonary angiography  \n2   The most appropriate additional treatment duri...  \n3   Intravenous immune globulin would be the most ...  \n4   The most appropriate initial diagnostic test w...  \n..                                                ...  \n72                                (B) Plasma exchange  \n73  The most appropriate immediate treatment would...  \n74                        (A) Discontinue clopidogrel  \n75  The most appropriate treatment for the 62-year...  \n76  The most appropriate additional treatment for ...  \n\n[77 rows x 4 columns]",
      "text/html": "<div>\n<style scoped>\n    .dataframe tbody tr th:only-of-type {\n        vertical-align: middle;\n    }\n\n    .dataframe tbody tr th {\n        vertical-align: top;\n    }\n\n    .dataframe thead th {\n        text-align: right;\n    }\n</style>\n<table border=\"1\" class=\"dataframe\">\n  <thead>\n    <tr style=\"text-align: right;\">\n      <th></th>\n      <th>Questions</th>\n      <th>Answers</th>\n      <th>chatGpt3.5</th>\n      <th>AnswersWithRag</th>\n    </tr>\n  </thead>\n  <tbody>\n    <tr>\n      <th>0</th>\n      <td>A S8-year-old man is evaluated for possible sm...</td>\n      <td>Answer:  C Educational Objective: Evaluate smo...</td>\n      <td>(B) Skeletal survey\\n\\nA skeletal survey is th...</td>\n      <td>Skeletal survey</td>\n    </tr>\n    <tr>\n      <th>1</th>\n      <td>A 47 year-old woman is hospitalized with a 3-d...</td>\n      <td>Answer:  C Educational Objective: Treat pure r...</td>\n      <td>(A) CT pulmonary angiography\\n\\nGiven the pati...</td>\n      <td>CT pulmonary angiography</td>\n    </tr>\n    <tr>\n      <th>2</th>\n      <td>A S5-year-old woman is evaluated before starti...</td>\n      <td>Answer: E Educational Objective: Evaluate a pr...</td>\n      <td>(A) Epoetin\\n\\nThis patient has anemia with a ...</td>\n      <td>The most appropriate additional treatment duri...</td>\n    </tr>\n    <tr>\n      <th>3</th>\n      <td>A 42-year-old woman is evaluated for several m...</td>\n      <td>Answer: D Educational Objective: Prevent herpe...</td>\n      <td>(C) Intravenous immune globulin\\n\\nThis patien...</td>\n      <td>Intravenous immune globulin would be the most ...</td>\n    </tr>\n    <tr>\n      <th>4</th>\n      <td>A 27-year-old woman is evaluated for shortness...</td>\n      <td>Answer: D Educational Objective: Diagnose vita...</td>\n      <td>(D) Serum vitamin B12 level\\n\\nThe patient's p...</td>\n      <td>The most appropriate initial diagnostic test w...</td>\n    </tr>\n    <tr>\n      <th>...</th>\n      <td>...</td>\n      <td>...</td>\n      <td>...</td>\n      <td>...</td>\n    </tr>\n    <tr>\n      <th>72</th>\n      <td>A 41-year-old man is evaluated in the emergenc...</td>\n      <td>Answer: E Educational Objective: Manage acute ...</td>\n      <td>(B) Plasma exchange\\n\\nThis patient is present...</td>\n      <td>(B) Plasma exchange</td>\n    </tr>\n    <tr>\n      <th>73</th>\n      <td>A 27-year old woman is diagnosed with acute fe...</td>\n      <td>Answer: D Educational Objective: Treat a patie...</td>\n      <td>(D) Low molecular weight heparin\\n\\nImmediate ...</td>\n      <td>The most appropriate immediate treatment would...</td>\n    </tr>\n    <tr>\n      <th>74</th>\n      <td>A 68 year old man is evaluated in the emergenc...</td>\n      <td>Answer: A Educational Objective: Manage gastro...</td>\n      <td>(B) Discontinue clopidogrel and aspirin\\n\\nIn ...</td>\n      <td>(A) Discontinue clopidogrel</td>\n    </tr>\n    <tr>\n      <th>75</th>\n      <td>A 62 year old rvoman is l.rospitalized for an ...</td>\n      <td>Answer: A Educational Objective: Treat bleedin...</td>\n      <td>(C) Fresh frozen plasma\\n\\nFresh frozen plasma...</td>\n      <td>The most appropriate treatment for the 62-year...</td>\n    </tr>\n    <tr>\n      <th>76</th>\n      <td>A79-year old woman is evaluated for shortness ...</td>\n      <td>Answer: D Educational Objective: Treat a sympt...</td>\n      <td>(D) Lenalidomide\\n\\nLenalidomide is a medicati...</td>\n      <td>The most appropriate additional treatment for ...</td>\n    </tr>\n  </tbody>\n</table>\n<p>77 rows × 4 columns</p>\n</div>"
     },
     "execution_count": 40,
     "metadata": {},
     "output_type": "execute_result"
    }
   ],
   "source": [
    "new_df"
   ],
   "metadata": {
    "collapsed": false,
    "ExecuteTime": {
     "end_time": "2024-02-25T14:57:43.648196400Z",
     "start_time": "2024-02-25T14:57:43.612225400Z"
    }
   },
   "id": "68902ff1be66df8c"
  },
  {
   "cell_type": "code",
   "execution_count": 43,
   "outputs": [],
   "source": [
    "new_df.to_csv(\"Experiment.csv\")"
   ],
   "metadata": {
    "collapsed": false,
    "ExecuteTime": {
     "end_time": "2024-02-25T15:00:59.000901700Z",
     "start_time": "2024-02-25T15:00:58.985396100Z"
    }
   },
   "id": "a3780c111dfa1107"
  }
 ],
 "metadata": {
  "kernelspec": {
   "display_name": "Python 3",
   "language": "python",
   "name": "python3"
  },
  "language_info": {
   "codemirror_mode": {
    "name": "ipython",
    "version": 2
   },
   "file_extension": ".py",
   "mimetype": "text/x-python",
   "name": "python",
   "nbconvert_exporter": "python",
   "pygments_lexer": "ipython2",
   "version": "2.7.6"
  }
 },
 "nbformat": 4,
 "nbformat_minor": 5
}
