{
 "cells": [
  {
   "cell_type": "code",
   "execution_count": 10,
   "outputs": [
    {
     "name": "stdout",
     "output_type": "stream",
     "text": [
      "Requirement already satisfied: openpyxl in c:\\users\\omer\\.virtualenvs\\hematology-llamaindex-rwmb6g9m\\lib\\site-packages (3.1.2)\n",
      "Requirement already satisfied: et-xmlfile in c:\\users\\omer\\.virtualenvs\\hematology-llamaindex-rwmb6g9m\\lib\\site-packages (from openpyxl) (1.1.0)\n"
     ]
    },
    {
     "name": "stderr",
     "output_type": "stream",
     "text": [
      "\n",
      "[notice] A new release of pip is available: 23.3.1 -> 24.0\n",
      "[notice] To update, run: python.exe -m pip install --upgrade pip\n"
     ]
    }
   ],
   "source": [
    "!pip install openpyxl"
   ],
   "metadata": {
    "collapsed": false,
    "ExecuteTime": {
     "end_time": "2024-02-27T17:49:03.224974700Z",
     "start_time": "2024-02-27T17:49:00.079193300Z"
    }
   },
   "id": "4554e12634b670af"
  },
  {
   "cell_type": "code",
   "execution_count": 1,
   "outputs": [
    {
     "name": "stderr",
     "output_type": "stream",
     "text": [
      "C:\\Users\\omer\\AppData\\Local\\Temp\\ipykernel_7076\\2035458946.py:1: DeprecationWarning: \n",
      "Pyarrow will become a required dependency of pandas in the next major release of pandas (pandas 3.0),\n",
      "(to allow more performant data types, such as the Arrow string type, and better interoperability with other libraries)\n",
      "but was not found to be installed on your system.\n",
      "If this would cause problems for you,\n",
      "please provide us feedback at https://github.com/pandas-dev/pandas/issues/54466\n",
      "        \n",
      "  import pandas as pd\n"
     ]
    }
   ],
   "source": [
    "import pandas as pd"
   ],
   "metadata": {
    "collapsed": false,
    "ExecuteTime": {
     "end_time": "2024-02-27T17:45:47.611787600Z",
     "start_time": "2024-02-27T17:45:45.113699600Z"
    }
   },
   "id": "a2ebe17c140df12b"
  },
  {
   "cell_type": "code",
   "execution_count": 2,
   "id": "initial_id",
   "metadata": {
    "collapsed": true,
    "ExecuteTime": {
     "end_time": "2024-02-27T17:46:59.152563700Z",
     "start_time": "2024-02-27T17:46:56.226768900Z"
    }
   },
   "outputs": [],
   "source": [
    "from dotenv import load_dotenv\n",
    "import os\n",
    "from llama_index.embeddings.openai import OpenAIEmbedding\n",
    "from llama_index.llms.openai import OpenAI\n",
    "from llama_index.core import VectorStoreIndex, get_response_synthesizer\n",
    "from llama_index.core.retrievers import VectorIndexRetriever\n",
    "from llama_index.core.query_engine import RetrieverQueryEngine\n",
    "from llama_index.core.postprocessor import SimilarityPostprocessor\n",
    "from llama_index.vector_stores.pinecone import PineconeVectorStore\n",
    "from pinecone import Pinecone"
   ]
  },
  {
   "cell_type": "code",
   "execution_count": 3,
   "outputs": [
    {
     "data": {
      "text/plain": "True"
     },
     "execution_count": 3,
     "metadata": {},
     "output_type": "execute_result"
    }
   ],
   "source": [
    "load_dotenv()"
   ],
   "metadata": {
    "collapsed": false,
    "ExecuteTime": {
     "end_time": "2024-02-27T17:46:59.177335Z",
     "start_time": "2024-02-27T17:46:59.156554Z"
    }
   },
   "id": "20331a7a299aecdb"
  },
  {
   "cell_type": "code",
   "execution_count": 4,
   "outputs": [],
   "source": [
    "pc = Pinecone(api_key=os.environ.get(\"PINECONE_API_KEY\"))"
   ],
   "metadata": {
    "collapsed": false,
    "ExecuteTime": {
     "end_time": "2024-02-27T17:46:59.234636500Z",
     "start_time": "2024-02-27T17:46:59.167792300Z"
    }
   },
   "id": "c706b19e7a642ca5"
  },
  {
   "cell_type": "code",
   "execution_count": 5,
   "outputs": [],
   "source": [
    "pinecone_index = pc.Index(name=\"hematology-index\")\n",
    "vector_store = PineconeVectorStore(pinecone_index=pinecone_index)\n",
    "embed_model = OpenAIEmbedding(model=\"text-embedding-ada-002\", api_key=os.environ.get(\"OPENAI_API_KEY\"))\n",
    "index = VectorStoreIndex.from_vector_store(vector_store=vector_store, embed_model=embed_model)"
   ],
   "metadata": {
    "collapsed": false,
    "ExecuteTime": {
     "end_time": "2024-02-27T17:47:02.340143200Z",
     "start_time": "2024-02-27T17:47:01.625031200Z"
    }
   },
   "id": "88dd9a0fec617a22"
  },
  {
   "cell_type": "code",
   "execution_count": 6,
   "outputs": [],
   "source": [
    "# configure retriever\n",
    "retriever = VectorIndexRetriever(\n",
    "        index=index,\n",
    "        similarity_top_k=10,\n",
    "    )\n",
    "llm = OpenAI(model=\"gpt-3.5-turbo\", temperature=0, api_key=os.environ.get(\"OPENAI_API_KEY\"))\n",
    "\n",
    "response_synthesizer = get_response_synthesizer(llm=llm)\n",
    "\n",
    "query_engine = RetrieverQueryEngine(\n",
    "        retriever=retriever,\n",
    "        response_synthesizer=response_synthesizer,\n",
    "        node_postprocessors=[SimilarityPostprocessor(similarity_cutoff=0.7)],\n",
    ")"
   ],
   "metadata": {
    "collapsed": false,
    "ExecuteTime": {
     "end_time": "2024-02-27T17:47:05.025763100Z",
     "start_time": "2024-02-27T17:47:05.013790800Z"
    }
   },
   "id": "8fd2aadbef8788bb"
  },
  {
   "cell_type": "code",
   "execution_count": 19,
   "outputs": [],
   "source": [
    "df=pd.read_excel(\"../../Hematology-pdf/Harrisons Hematology and Oncology 2ed_questionsPage743.xlsx\")"
   ],
   "metadata": {
    "collapsed": false,
    "ExecuteTime": {
     "end_time": "2024-02-27T17:53:49.267066400Z",
     "start_time": "2024-02-27T17:53:49.231337Z"
    }
   },
   "id": "68f2ef28b647c359"
  },
  {
   "cell_type": "code",
   "execution_count": 20,
   "outputs": [
    {
     "data": {
      "text/plain": "                                            Questions  \\\n0   A 39-year-old woman is evaluated for anemia. H...   \n1   A 62-year-old man is evaluated for anemia. He ...   \n2   You are asked to review the peripheral blood s...   \n3   All of the following are common manifestations...   \n4   A 68-year-old man is admitted to the intensive...   \n..                                                ...   \n64  A 62-year-old woman is hospitalized following ...   \n65  Which of the following statements regarding di...   \n66  A 53-year-old woman presents to the hospital f...   \n67  A 42-year-old woman presents to the emergency ...   \n68  In general, which of the following is the grea...   \n\n                                              Answers  \n0   The answer is A.  (Chap. 2) This patient with ...  \n1   The answer is C.  (Chap. 2) The reticulocyte i...  \n2   The answer is C. (Chap. 2) This blood smear sh...  \n3   The answer is E.  (Chap. 3) von Willebrand dis...  \n4   The answer is B.  (Chap. 3) The activated part...  \n..                                                ...  \n64  The answer is B.  (Chap. 22) Clinically, indiv...  \n65  The answer is B.  (Chap. 22) For many years, v...  \n66  The answer is E. (Chap. 22) This patient is pr...  \n67  The answer is E. (Chap. 22) Warfarin should no...  \n68  The answer is A.  (Chap. 26) Although cigarett...  \n\n[69 rows x 2 columns]",
      "text/html": "<div>\n<style scoped>\n    .dataframe tbody tr th:only-of-type {\n        vertical-align: middle;\n    }\n\n    .dataframe tbody tr th {\n        vertical-align: top;\n    }\n\n    .dataframe thead th {\n        text-align: right;\n    }\n</style>\n<table border=\"1\" class=\"dataframe\">\n  <thead>\n    <tr style=\"text-align: right;\">\n      <th></th>\n      <th>Questions</th>\n      <th>Answers</th>\n    </tr>\n  </thead>\n  <tbody>\n    <tr>\n      <th>0</th>\n      <td>A 39-year-old woman is evaluated for anemia. H...</td>\n      <td>The answer is A.  (Chap. 2) This patient with ...</td>\n    </tr>\n    <tr>\n      <th>1</th>\n      <td>A 62-year-old man is evaluated for anemia. He ...</td>\n      <td>The answer is C.  (Chap. 2) The reticulocyte i...</td>\n    </tr>\n    <tr>\n      <th>2</th>\n      <td>You are asked to review the peripheral blood s...</td>\n      <td>The answer is C. (Chap. 2) This blood smear sh...</td>\n    </tr>\n    <tr>\n      <th>3</th>\n      <td>All of the following are common manifestations...</td>\n      <td>The answer is E.  (Chap. 3) von Willebrand dis...</td>\n    </tr>\n    <tr>\n      <th>4</th>\n      <td>A 68-year-old man is admitted to the intensive...</td>\n      <td>The answer is B.  (Chap. 3) The activated part...</td>\n    </tr>\n    <tr>\n      <th>...</th>\n      <td>...</td>\n      <td>...</td>\n    </tr>\n    <tr>\n      <th>64</th>\n      <td>A 62-year-old woman is hospitalized following ...</td>\n      <td>The answer is B.  (Chap. 22) Clinically, indiv...</td>\n    </tr>\n    <tr>\n      <th>65</th>\n      <td>Which of the following statements regarding di...</td>\n      <td>The answer is B.  (Chap. 22) For many years, v...</td>\n    </tr>\n    <tr>\n      <th>66</th>\n      <td>A 53-year-old woman presents to the hospital f...</td>\n      <td>The answer is E. (Chap. 22) This patient is pr...</td>\n    </tr>\n    <tr>\n      <th>67</th>\n      <td>A 42-year-old woman presents to the emergency ...</td>\n      <td>The answer is E. (Chap. 22) Warfarin should no...</td>\n    </tr>\n    <tr>\n      <th>68</th>\n      <td>In general, which of the following is the grea...</td>\n      <td>The answer is A.  (Chap. 26) Although cigarett...</td>\n    </tr>\n  </tbody>\n</table>\n<p>69 rows × 2 columns</p>\n</div>"
     },
     "execution_count": 20,
     "metadata": {},
     "output_type": "execute_result"
    }
   ],
   "source": [
    "df"
   ],
   "metadata": {
    "collapsed": false,
    "ExecuteTime": {
     "end_time": "2024-02-27T17:53:50.036093900Z",
     "start_time": "2024-02-27T17:53:50.019777200Z"
    }
   },
   "id": "9da0d8e462f2dc16"
  },
  {
   "cell_type": "code",
   "execution_count": 21,
   "outputs": [],
   "source": [
    "def modelResponse(llm,query_engine,df):\n",
    "        questions=df['Questions']\n",
    "        llmResponse=[]\n",
    "        query_engineResponse=[]\n",
    "        for q in questions:\n",
    "                llmResponse.append(llm.complete(q).text)\n",
    "                query_engineResponse.append(query_engine.query(q).response)\n",
    "        df['chatGpt3.5'] = llmResponse\n",
    "        df['AnswersWithRag'] = query_engineResponse\n",
    "        return df"
   ],
   "metadata": {
    "collapsed": false,
    "ExecuteTime": {
     "end_time": "2024-02-27T17:53:55.528987500Z",
     "start_time": "2024-02-27T17:53:55.511773900Z"
    }
   },
   "id": "318b085c5feb2e33"
  },
  {
   "cell_type": "code",
   "execution_count": 22,
   "outputs": [],
   "source": [
    "new_df=modelResponse(llm,query_engine,df)"
   ],
   "metadata": {
    "collapsed": false,
    "ExecuteTime": {
     "end_time": "2024-02-27T18:00:27.066470900Z",
     "start_time": "2024-02-27T17:53:59.997503800Z"
    }
   },
   "id": "230b87bbed3e225a"
  },
  {
   "cell_type": "code",
   "execution_count": 23,
   "outputs": [
    {
     "data": {
      "text/plain": "                                            Questions  \\\n0   A 39-year-old woman is evaluated for anemia. H...   \n1   A 62-year-old man is evaluated for anemia. He ...   \n2   You are asked to review the peripheral blood s...   \n3   All of the following are common manifestations...   \n4   A 68-year-old man is admitted to the intensive...   \n..                                                ...   \n64  A 62-year-old woman is hospitalized following ...   \n65  Which of the following statements regarding di...   \n66  A 53-year-old woman presents to the hospital f...   \n67  A 42-year-old woman presents to the emergency ...   \n68  In general, which of the following is the grea...   \n\n                                              Answers  \\\n0   The answer is A.  (Chap. 2) This patient with ...   \n1   The answer is C.  (Chap. 2) The reticulocyte i...   \n2   The answer is C. (Chap. 2) This blood smear sh...   \n3   The answer is E.  (Chap. 3) von Willebrand dis...   \n4   The answer is B.  (Chap. 3) The activated part...   \n..                                                ...   \n64  The answer is B.  (Chap. 22) Clinically, indiv...   \n65  The answer is B.  (Chap. 22) For many years, v...   \n66  The answer is E. (Chap. 22) This patient is pr...   \n67  The answer is E. (Chap. 22) Warfarin should no...   \n68  The answer is A.  (Chap. 26) Although cigarett...   \n\n                                           chatGpt3.5  \\\n0   C. Hemoglobin electrophoresis\\n\\nThis patient ...   \n1   The reticulocyte production index (RPI) is cal...   \n2   D. Splenomegaly\\n\\nSplenomegaly is a common ph...   \n3                A. Angiodysplasia of the small bowel   \n4   B. Acquired factor VIII inhibitor\\n\\nThe patie...   \n..                                                ...   \n64  A. Elevated serum troponin levels\\n\\nElevated ...   \n65  E. None of the routinely used imaging techniqu...   \n66  E. Treat with dopamine and recombinant tissue ...   \n67  E. Warfarin 7.5 mg PO once daily to maintain I...   \n68                                             A. Age   \n\n                                       AnswersWithRag  \n0                                         A. Ferritin  \n1   The reticulocyte production index (RPI) can be...  \n2                                     D. Splenomegaly  \n3                A. Angiodysplasia of the small bowel  \n4   The most likely cause of the patient's coagulo...  \n..                                                ...  \n64                  A. Elevated serum troponin levels  \n65  D. Multidetector-row spiral CT imaging is subo...  \n66  The next best step in the management of this p...  \n67  D. Unfractionated heparin IV adjusted to maint...  \n68                                             A. Age  \n\n[69 rows x 4 columns]",
      "text/html": "<div>\n<style scoped>\n    .dataframe tbody tr th:only-of-type {\n        vertical-align: middle;\n    }\n\n    .dataframe tbody tr th {\n        vertical-align: top;\n    }\n\n    .dataframe thead th {\n        text-align: right;\n    }\n</style>\n<table border=\"1\" class=\"dataframe\">\n  <thead>\n    <tr style=\"text-align: right;\">\n      <th></th>\n      <th>Questions</th>\n      <th>Answers</th>\n      <th>chatGpt3.5</th>\n      <th>AnswersWithRag</th>\n    </tr>\n  </thead>\n  <tbody>\n    <tr>\n      <th>0</th>\n      <td>A 39-year-old woman is evaluated for anemia. H...</td>\n      <td>The answer is A.  (Chap. 2) This patient with ...</td>\n      <td>C. Hemoglobin electrophoresis\\n\\nThis patient ...</td>\n      <td>A. Ferritin</td>\n    </tr>\n    <tr>\n      <th>1</th>\n      <td>A 62-year-old man is evaluated for anemia. He ...</td>\n      <td>The answer is C.  (Chap. 2) The reticulocyte i...</td>\n      <td>The reticulocyte production index (RPI) is cal...</td>\n      <td>The reticulocyte production index (RPI) can be...</td>\n    </tr>\n    <tr>\n      <th>2</th>\n      <td>You are asked to review the peripheral blood s...</td>\n      <td>The answer is C. (Chap. 2) This blood smear sh...</td>\n      <td>D. Splenomegaly\\n\\nSplenomegaly is a common ph...</td>\n      <td>D. Splenomegaly</td>\n    </tr>\n    <tr>\n      <th>3</th>\n      <td>All of the following are common manifestations...</td>\n      <td>The answer is E.  (Chap. 3) von Willebrand dis...</td>\n      <td>A. Angiodysplasia of the small bowel</td>\n      <td>A. Angiodysplasia of the small bowel</td>\n    </tr>\n    <tr>\n      <th>4</th>\n      <td>A 68-year-old man is admitted to the intensive...</td>\n      <td>The answer is B.  (Chap. 3) The activated part...</td>\n      <td>B. Acquired factor VIII inhibitor\\n\\nThe patie...</td>\n      <td>The most likely cause of the patient's coagulo...</td>\n    </tr>\n    <tr>\n      <th>...</th>\n      <td>...</td>\n      <td>...</td>\n      <td>...</td>\n      <td>...</td>\n    </tr>\n    <tr>\n      <th>64</th>\n      <td>A 62-year-old woman is hospitalized following ...</td>\n      <td>The answer is B.  (Chap. 22) Clinically, indiv...</td>\n      <td>A. Elevated serum troponin levels\\n\\nElevated ...</td>\n      <td>A. Elevated serum troponin levels</td>\n    </tr>\n    <tr>\n      <th>65</th>\n      <td>Which of the following statements regarding di...</td>\n      <td>The answer is B.  (Chap. 22) For many years, v...</td>\n      <td>E. None of the routinely used imaging techniqu...</td>\n      <td>D. Multidetector-row spiral CT imaging is subo...</td>\n    </tr>\n    <tr>\n      <th>66</th>\n      <td>A 53-year-old woman presents to the hospital f...</td>\n      <td>The answer is E. (Chap. 22) This patient is pr...</td>\n      <td>E. Treat with dopamine and recombinant tissue ...</td>\n      <td>The next best step in the management of this p...</td>\n    </tr>\n    <tr>\n      <th>67</th>\n      <td>A 42-year-old woman presents to the emergency ...</td>\n      <td>The answer is E. (Chap. 22) Warfarin should no...</td>\n      <td>E. Warfarin 7.5 mg PO once daily to maintain I...</td>\n      <td>D. Unfractionated heparin IV adjusted to maint...</td>\n    </tr>\n    <tr>\n      <th>68</th>\n      <td>In general, which of the following is the grea...</td>\n      <td>The answer is A.  (Chap. 26) Although cigarett...</td>\n      <td>A. Age</td>\n      <td>A. Age</td>\n    </tr>\n  </tbody>\n</table>\n<p>69 rows × 4 columns</p>\n</div>"
     },
     "execution_count": 23,
     "metadata": {},
     "output_type": "execute_result"
    }
   ],
   "source": [
    "new_df"
   ],
   "metadata": {
    "collapsed": false,
    "ExecuteTime": {
     "end_time": "2024-02-27T18:00:27.084442800Z",
     "start_time": "2024-02-27T18:00:27.079421100Z"
    }
   },
   "id": "68902ff1be66df8c"
  },
  {
   "cell_type": "code",
   "execution_count": 24,
   "outputs": [],
   "source": [
    "new_df.to_csv(\"Experiment2.csv\")"
   ],
   "metadata": {
    "collapsed": false,
    "ExecuteTime": {
     "end_time": "2024-02-27T18:15:48.471626400Z",
     "start_time": "2024-02-27T18:15:48.383683400Z"
    }
   },
   "id": "a3780c111dfa1107"
  }
 ],
 "metadata": {
  "kernelspec": {
   "display_name": "Python 3",
   "language": "python",
   "name": "python3"
  },
  "language_info": {
   "codemirror_mode": {
    "name": "ipython",
    "version": 2
   },
   "file_extension": ".py",
   "mimetype": "text/x-python",
   "name": "python",
   "nbconvert_exporter": "python",
   "pygments_lexer": "ipython2",
   "version": "2.7.6"
  }
 },
 "nbformat": 4,
 "nbformat_minor": 5
}
